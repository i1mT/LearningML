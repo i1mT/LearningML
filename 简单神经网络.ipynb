{
 "cells": [
  {
   "cell_type": "markdown",
   "metadata": {},
   "source": [
    "# 一个简单的神经网络\n",
    "\n",
    "## 神经网络是什么\n",
    "\n",
    "神经网络（NN）是 **对输入数据执行的嵌套函数的集合**。这些函数由参数（权重w和偏差b组成）定义，参数由以张量的形式存储。\n",
    "\n",
    "NN的训练包含两个步骤：\n",
    "\n",
    "1. 正向传播\n",
    "    NN 对输入数据进行猜测，具体为输入每个函数获取函数的计算结果。\n",
    "2. 反向传播\n",
    "    NN 根据猜测的结果，与正确结果计算误差，来调整其参数。具体反向传播的算法（再百度一下）\n",
    "    \n",
    "## 训练步骤\n",
    "\n",
    "使用 `torchvision`的 resnet18 模型。"
   ]
  },
  {
   "cell_type": "code",
   "execution_count": 1,
   "metadata": {},
   "outputs": [],
   "source": [
    "import torch, torchvision\n",
    "\n",
    "model = torchvision.models.resnet18(pretrained=True)"
   ]
  },
  {
   "cell_type": "markdown",
   "metadata": {},
   "source": [
    "### 创建模拟数据"
   ]
  },
  {
   "cell_type": "code",
   "execution_count": 2,
   "metadata": {},
   "outputs": [],
   "source": [
    "# 3 通道，64*64 的图像矩阵\n",
    "data = torch.rand(1, 3, 64, 64)\n",
    "\n",
    "# 随机值labels，即验证集？\n",
    "labels = torch.rand(1, 1000)"
   ]
  },
  {
   "cell_type": "markdown",
   "metadata": {},
   "source": [
    "### 正向传播\n",
    "\n",
    "将数据输入模型，获得预测值"
   ]
  },
  {
   "cell_type": "code",
   "execution_count": 3,
   "metadata": {},
   "outputs": [],
   "source": [
    "prediction = model(data)"
   ]
  },
  {
   "cell_type": "markdown",
   "metadata": {},
   "source": [
    "### 反向传播\n",
    "\n",
    "使用预测值和labels 计算误差（loss），然后在误差张量上调用 `backward`进行反向传播。"
   ]
  },
  {
   "cell_type": "code",
   "execution_count": 4,
   "metadata": {},
   "outputs": [],
   "source": [
    "# loss\n",
    "loss = (prediction - labels).sum()\n",
    "# 反向传播\n",
    "loss.backward()"
   ]
  },
  {
   "cell_type": "markdown",
   "metadata": {},
   "source": [
    "### 优化器\n",
    "\n",
    "> 优化器是什么东西？还没有搞懂\n",
    "\n",
    "加载优化器，使用pytorch的 SGD ，学习率为0.01，动量为 0.9\n",
    "\n",
    "然后调用 `optim.setp()` 启动梯度下降。"
   ]
  },
  {
   "cell_type": "code",
   "execution_count": 5,
   "metadata": {},
   "outputs": [],
   "source": [
    "# optim\n",
    "optim = torch.optim.SGD(model.parameters(), lr=1e-2, momentum=0.9)\n",
    "\n",
    "optim.step()"
   ]
  }
 ],
 "metadata": {
  "kernelspec": {
   "display_name": "Python 3",
   "language": "python",
   "name": "python3"
  },
  "language_info": {
   "codemirror_mode": {
    "name": "ipython",
    "version": 3
   },
   "file_extension": ".py",
   "mimetype": "text/x-python",
   "name": "python",
   "nbconvert_exporter": "python",
   "pygments_lexer": "ipython3",
   "version": "3.7.0"
  }
 },
 "nbformat": 4,
 "nbformat_minor": 2
}
